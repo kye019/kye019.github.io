{
 "cells": [
  {
   "cell_type": "code",
   "execution_count": 5,
   "id": "9b854f46-98c4-42de-b2e5-febeb7a18080",
   "metadata": {},
   "outputs": [],
   "source": [
    "import pandas as pd\n",
    "import os\n",
    "import re\n",
    "import ast"
   ]
  },
  {
   "cell_type": "markdown",
   "id": "da5f028f-6db9-42e2-a910-85f9ad6caf58",
   "metadata": {},
   "source": [
    "**Cleaning Ingredients.**\n",
    "-"
   ]
  },
  {
   "cell_type": "code",
   "execution_count": 2,
   "id": "abd0917b-91d9-497b-aaa5-b5669374f1ad",
   "metadata": {
    "scrolled": true
   },
   "outputs": [
    {
     "name": "stdout",
     "output_type": "stream",
     "text": [
      "D:\\Code\\CirFinCREATE\\data files\n"
     ]
    },
    {
     "name": "stderr",
     "output_type": "stream",
     "text": [
      "C:\\Users\\sarah\\AppData\\Local\\Programs\\Python\\Python311\\Lib\\site-packages\\IPython\\core\\magics\\osm.py:417: UserWarning: This is now an optional IPython functionality, setting dhist requires you to install the `pickleshare` library.\n",
      "  self.shell.db['dhist'] = compress_dhist(dhist)[-100:]\n"
     ]
    }
   ],
   "source": [
    "%cd data files"
   ]
  },
  {
   "cell_type": "code",
   "execution_count": 3,
   "id": "d3bcc926-1c6a-4325-bd8b-bdb63552da82",
   "metadata": {},
   "outputs": [],
   "source": [
    "df = pd.read_excel('AGRIBALYSE3.1.1_partie agriculture_conv_janv24.xlsx', sheet_name=2)\n",
    "df.columns = df.iloc[1]\n",
    "df = df.drop([0,1]).reset_index(drop=True)"
   ]
  },
  {
   "cell_type": "code",
   "execution_count": 4,
   "id": "63a02fa8-00dd-4f86-806a-d650dd774e05",
   "metadata": {},
   "outputs": [],
   "source": [
    "ingredients_df = pd.DataFrame()\n",
    "ingredients_df['Ingredient'] = df['LCI Name']\n",
    "ingredients_df['kg CO2 eq/kg'] = df['kg CO2 eq/kg']"
   ]
  },
  {
   "cell_type": "code",
   "execution_count": 5,
   "id": "e7394a3f-00d2-4ba2-95a1-6d0153115840",
   "metadata": {},
   "outputs": [],
   "source": [
    "def split_ingredients(ingredient):\n",
    "    return ingredient.split(\",\")[0]\n",
    "\n",
    "ingredients_df['Ingredient'] = ingredients_df['Ingredient'].apply(split_ingredients)"
   ]
  },
  {
   "cell_type": "markdown",
   "id": "439ccd85-2c54-4c56-99e1-e3e00bd6f667",
   "metadata": {},
   "source": [
    "Manual data cleaning."
   ]
  },
  {
   "cell_type": "code",
   "execution_count": 6,
   "id": "9a2c915b-3785-4392-9a55-ec18169e2fbe",
   "metadata": {},
   "outputs": [],
   "source": [
    "ingredients_df.loc[2, 'Ingredient'] = 'Seaweed'\n",
    "ingredients_df.loc[3, 'Ingredient'] = 'Seaweed'\n",
    "ingredients_df.loc[8, 'Ingredient'] = 'Sea bass'\n",
    "ingredients_df.loc[9, 'Ingredient'] = 'Beetroot'\n",
    "ingredients_df.loc[10, 'Ingredient'] = 'Beetroot'\n",
    "ingredients_df.loc[21, 'Ingredient'] = 'Duck'\n",
    "ingredients_df.loc[22, 'Ingredient'] = 'Duck'\n",
    "ingredients_df.loc[76, 'Ingredient'] = 'Strawberry'\n",
    "ingredients_df.loc[77, 'Ingredient'] = 'Strawberry'\n",
    "ingredients_df.loc[78, 'Ingredient'] = 'Strawberry'\n",
    "ingredients_df.loc[81, 'Ingredient'] = 'Coffee bean'\n",
    "ingredients_df.loc[87, 'Ingredient'] = 'Extruded flaxseed'\n",
    "ingredients_df.loc[93, 'Ingredient'] = 'Kiwi'\n",
    "ingredients_df.loc[107, 'Ingredient'] = 'Rabbit'\n",
    "ingredients_df.loc[109, 'Ingredient'] = 'Lupin'\n",
    "ingredients_df.loc[110, 'Ingredient'] = 'Lupin'\n",
    "ingredients_df.loc[111, 'Ingredient'] = 'Lupin'\n",
    "ingredients_df.loc[112, 'Ingredient'] = 'Lupin'\n",
    "ingredients_df.loc[128, 'Ingredient'] = 'Mussel'\n",
    "ingredients_df.loc[148, 'Ingredient'] = 'Vining pea'\n",
    "ingredients_df.loc[153, 'Ingredient'] = 'Leek'\n",
    "ingredients_df.loc[161, 'Ingredient'] = 'Apple'\n",
    "ingredients_df.loc[169, 'Ingredient'] = 'Potato'\n",
    "ingredients_df.loc[171, 'Ingredient'] = 'Potato'\n",
    "ingredients_df.loc[172, 'Ingredient'] = 'Potato'\n",
    "ingredients_df.loc[173, 'Ingredient'] = 'Potato'\n",
    "ingredients_df.loc[174, 'Ingredient'] = 'Potato'\n",
    "ingredients_df.loc[175, 'Ingredient'] = 'Pork'\n",
    "ingredients_df.loc[176, 'Ingredient'] = 'Pork'\n",
    "ingredients_df.loc[177, 'Ingredient'] = 'Pork'\n",
    "ingredients_df.loc[178, 'Ingredient'] = 'Pork'\n",
    "ingredients_df.loc[179, 'Ingredient'] = 'Pork'\n",
    "ingredients_df.loc[180, 'Ingredient'] = 'Pork'\n",
    "ingredients_df.loc[181, 'Ingredient'] = 'Pork'\n",
    "ingredients_df.loc[182, 'Ingredient'] = 'Pork'\n",
    "ingredients_df.loc[183, 'Ingredient'] = 'Chicken'\n",
    "ingredients_df.loc[184, 'Ingredient'] = 'Chicken'\n",
    "ingredients_df.loc[185, 'Ingredient'] = 'Chicken'\n",
    "ingredients_df.loc[186, 'Ingredient'] = 'Chicken'\n",
    "ingredients_df.loc[187, 'Ingredient'] = 'Chicken'\n",
    "ingredients_df.loc[197, 'Ingredient'] = 'Grapefruit'\n",
    "ingredients_df.loc[212, 'Ingredient'] = 'Salmon'\n",
    "ingredients_df.loc[215, 'Ingredient'] = 'Sorghum'\n",
    "ingredients_df.loc[216, 'Ingredient'] = 'Sorghum'\n",
    "ingredients_df.loc[217, 'Ingredient'] = 'Beef'\n",
    "ingredients_df.loc[218, 'Ingredient'] = 'Beef'\n",
    "ingredients_df.loc[219, 'Ingredient'] = 'Beef'\n",
    "ingredients_df.loc[243, 'Ingredient'] = 'Pork'\n",
    "ingredients_df.loc[244, 'Ingredient'] = 'Pork'\n",
    "ingredients_df.loc[245, 'Ingredient'] = 'Pork'\n",
    "ingredients_df.loc[246, 'Ingredient'] = 'Pork'\n",
    "ingredients_df.loc[247, 'Ingredient'] = 'Pork'\n",
    "ingredients_df.loc[248, 'Ingredient'] = 'Pork'\n",
    "ingredients_df.loc[249, 'Ingredient'] = 'Pork'\n",
    "ingredients_df.loc[250, 'Ingredient'] = 'Beef'\n",
    "ingredients_df.loc[251, 'Ingredient'] = 'Beef'\n",
    "ingredients_df.loc[252, 'Ingredient'] = 'Beef'\n",
    "ingredients_df.loc[253, 'Ingredient'] = 'Beef'\n",
    "ingredients_df.loc[254, 'Ingredient'] = 'Beef'\n",
    "ingredients_df.loc[255, 'Ingredient'] = 'Beef'"
   ]
  },
  {
   "cell_type": "code",
   "execution_count": 7,
   "id": "9d789e07-086f-4f6d-b73d-86ccc490ec16",
   "metadata": {},
   "outputs": [],
   "source": [
    "df = pd.read_excel('SuEatableLife_Food_Fooprint_database.xlsx', sheet_name=1)\n",
    "df2 = pd.DataFrame()\n",
    "df2['Ingredient'] = df['Food commodity ITEM']\n",
    "df2['kg CO2 eq/kg'] = df['Carbon Footprint kg CO2eq/kg or l of food ITEM']\n",
    "ingredients_df = pd.concat([ingredients_df, df2], ignore_index=True)"
   ]
  },
  {
   "cell_type": "markdown",
   "id": "e87c682a-273b-4e5b-a54d-293c20f0188f",
   "metadata": {},
   "source": [
    "Manual data cleaning again."
   ]
  },
  {
   "cell_type": "code",
   "execution_count": 8,
   "id": "9223198a-900c-48e4-b4f1-9388cce3f581",
   "metadata": {},
   "outputs": [],
   "source": [
    "def remove_end(ingredient):\n",
    "    return re.sub(r'[\\s]*[\\(\\[].*?[\\)\\]]|[^a-zA-Z\\s]+$', '', ingredient).strip()\n",
    "\n",
    "ingredients_df['Ingredient'] = ingredients_df['Ingredient'].apply(remove_end)"
   ]
  },
  {
   "cell_type": "code",
   "execution_count": 9,
   "id": "85af9d88-c280-42a2-945a-e7ea530af11a",
   "metadata": {},
   "outputs": [],
   "source": [
    "ingredients_df.loc[257, 'Ingredient'] = 'Beer'\n",
    "ingredients_df.loc[258, 'Ingredient'] = 'Beer'\n",
    "ingredients_df.loc[259, 'Ingredient'] = 'Beer'\n",
    "ingredients_df.loc[260, 'Ingredient'] = 'Cookie'\n",
    "ingredients_df.loc[261, 'Ingredient'] = 'Cookie'\n",
    "ingredients_df.loc[262, 'Ingredient'] = 'Mineral Water'\n",
    "ingredients_df.loc[263, 'Ingredient'] = 'Bread'\n",
    "ingredients_df.loc[264, 'Ingredient'] = 'Bread'\n",
    "ingredients_df.loc[265, 'Ingredient'] = 'Bread'\n",
    "ingredients_df.loc[266, 'Ingredient'] = 'Bread'\n",
    "ingredients_df.loc[270, 'Ingredient'] = 'Ground Coffee'\n",
    "ingredients_df.loc[272, 'Ingredient'] = 'Coffee'\n",
    "ingredients_df.loc[273, 'Ingredient'] = 'Coffee'\n",
    "ingredients_df.loc[274, 'Ingredient'] = 'Coffee'\n",
    "ingredients_df.loc[299, 'Ingredient'] = 'Oatmeal'\n",
    "ingredients_df.loc[309, 'Ingredient'] = 'Canned beans'\n",
    "ingredients_df.loc[310, 'Ingredient'] = 'Canned green beans'\n",
    "ingredients_df.loc[334, 'Ingredient'] = 'Tomato'\n",
    "ingredients_df.loc[335, 'Ingredient'] = 'Tomato'\n",
    "ingredients_df.loc[336, 'Ingredient'] = 'Tomato'\n",
    "ingredients_df.loc[339, 'Ingredient'] = 'Canned carrots'\n",
    "ingredients_df.loc[340, 'Ingredient'] = 'Canned corn'\n",
    "ingredients_df.loc[352, 'Ingredient'] = 'Red wine'\n",
    "ingredients_df.loc[353, 'Ingredient'] = 'White wine'\n",
    "ingredients_df.loc[354, 'Ingredient'] = 'Yeast'\n",
    "ingredients_df.loc[355, 'Ingredient'] = 'Yeast'\n",
    "ingredients_df.loc[356, 'Ingredient'] = 'Yeast'\n",
    "ingredients_df.loc[357, 'Ingredient'] = 'Beef'\n",
    "ingredients_df.loc[358, 'Ingredient'] = 'Beef'\n",
    "ingredients_df.loc[359, 'Ingredient'] = 'Beef'\n",
    "ingredients_df.loc[368, 'Ingredient'] = 'Cheddar'\n",
    "ingredients_df.loc[377, 'Ingredient'] = 'Egg'\n",
    "ingredients_df.loc[380, 'Ingredient'] = 'Lamb'\n",
    "ingredients_df.loc[381, 'Ingredient'] = 'Lamb'\n",
    "ingredients_df.loc[385, 'Ingredient'] = 'Pork'\n",
    "ingredients_df.loc[390, 'Ingredient'] = 'Pork'\n",
    "ingredients_df.loc[391, 'Ingredient'] = 'Chicken'\n",
    "ingredients_df.loc[392, 'Ingredient'] = 'Emu'\n",
    "ingredients_df.loc[393, 'Ingredient'] = 'Duck'\n",
    "ingredients_df.loc[394, 'Ingredient'] = 'Turkey'\n",
    "ingredients_df.loc[395, 'Ingredient'] = 'Chicken'\n",
    "ingredients_df.loc[396, 'Ingredient'] = 'Duck'\n",
    "ingredients_df.loc[397, 'Ingredient'] = 'Turkey'\n",
    "ingredients_df.loc[398, 'Ingredient'] = 'Rabbit'\n",
    "ingredients_df.loc[399, 'Ingredient'] = 'Snail'\n",
    "ingredients_df.loc[400, 'Ingredient'] = 'Yogurt'\n",
    "ingredients_df.loc[401, 'Ingredient'] = 'Yogurt'\n",
    "ingredients_df.loc[402, 'Ingredient'] = 'Yogurt'\n",
    "ingredients_df.loc[403, 'Ingredient'] = 'Coffee'\n",
    "ingredients_df.loc[479, 'Ingredient'] = 'Sesame Seed'\n",
    "ingredients_df.loc[547, 'Ingredient'] = 'Sea Bass'\n",
    "ingredients_df.loc[578, 'Ingredient'] = 'Shrimp'\n",
    "ingredients_df.loc[580, 'Ingredient'] = 'Shrimp'"
   ]
  },
  {
   "cell_type": "code",
   "execution_count": 10,
   "id": "0828bec7-8833-4bce-bd15-16d8869a6743",
   "metadata": {},
   "outputs": [],
   "source": [
    "df = pd.read_csv('Food_Production.csv')\n",
    "df3 = pd.DataFrame()\n",
    "df3['Ingredient'] = df['Food product']\n",
    "df3['kg CO2 eq/kg'] = df['Total_emissions']\n",
    "ingredients_df = pd.concat([ingredients_df, df3], ignore_index=True)"
   ]
  },
  {
   "cell_type": "markdown",
   "id": "2e940535-3863-432e-a7bf-0f3327c1b525",
   "metadata": {},
   "source": [
    "Manual data cleaning again."
   ]
  },
  {
   "cell_type": "code",
   "execution_count": 11,
   "id": "33624f47-14e7-49ff-9bc4-6804fab3a2a9",
   "metadata": {},
   "outputs": [],
   "source": [
    "ingredients_df.loc[581, 'Ingredient'] = 'Bread'\n",
    "ingredients_df.loc[582, 'Ingredient'] = 'Maize'\n",
    "ingredients_df.loc[583, 'Ingredient'] = 'Barley'\n",
    "ingredients_df.loc[586, 'Ingredient'] = 'Potato'\n",
    "ingredients_df.loc[614, 'Ingredient'] = 'Beef'\n",
    "ingredients_df.loc[615, 'Ingredient'] = 'Beef'\n",
    "ingredients_df.loc[616, 'Ingredient'] = 'Lamb'\n",
    "ingredients_df.loc[617, 'Ingredient'] = 'Pork'\n",
    "ingredients_df.loc[621, 'Ingredient'] = 'Egg'\n",
    "ingredients_df.loc[622, 'Ingredient'] = 'Fish'\n",
    "ingredients_df.loc[623, 'Ingredient'] = 'Shrimp'\n",
    "ingredients_df.loc[664, 'Ingredient'] = 'Egg'"
   ]
  },
  {
   "cell_type": "code",
   "execution_count": 12,
   "id": "8bdd9bdc-9dc6-465c-9db3-ff42c22080a8",
   "metadata": {},
   "outputs": [],
   "source": [
    "def lowercase(ingredient):\n",
    "    return ingredient.lower()\n",
    "\n",
    "ingredients_df['Ingredient'] = ingredients_df['Ingredient'].apply(lowercase)"
   ]
  },
  {
   "cell_type": "code",
   "execution_count": 13,
   "id": "beb9d0e9-2283-4b93-84a6-1f3f1cb39fce",
   "metadata": {},
   "outputs": [],
   "source": [
    "new_row = pd.DataFrame({'Ingredient': ['salt', 'sugar'], 'kg CO2 eq/kg': [1.133, 0.656]})\n",
    "ingredients_df = pd.concat([ingredients_df, new_row], ignore_index=True).sort_values(by='Ingredient').reset_index().drop(columns='index')"
   ]
  },
  {
   "cell_type": "code",
   "execution_count": 14,
   "id": "3be50a7f-e06b-4850-891a-d87b6fc4c6cb",
   "metadata": {},
   "outputs": [],
   "source": [
    "ingredients_df.rename(columns={'kg CO2 eq/kg': 'Carbon Footprint'}, inplace=True)"
   ]
  },
  {
   "cell_type": "markdown",
   "id": "acf09d46-4f91-4b74-ab29-e0e4c0254795",
   "metadata": {},
   "source": [
    "Final session of manual data cleaning for plural forms and final edits."
   ]
  },
  {
   "cell_type": "code",
   "execution_count": 16,
   "id": "5bc72a7f-b75e-4ba1-801d-f83d9ef4d780",
   "metadata": {},
   "outputs": [],
   "source": [
    "ingredients_df.loc[22, 'Ingredient'] = 'apple'\n",
    "ingredients_df.loc[36, 'Ingredient'] = 'banana'\n",
    "ingredients_df.loc[41, 'Ingredient'] = 'bean'\n",
    "ingredients_df.loc[56, 'Ingredient'] = 'beef'\n",
    "ingredients_df.loc[65, 'Ingredient'] = 'grape'\n",
    "ingredients_df.loc[99, 'Ingredient'] = 'carrot'\n",
    "ingredients_df.loc[130, 'Ingredient'] = 'cheese'\n",
    "ingredients_df.loc[142, 'Ingredient'] = 'chicory root'\n",
    "ingredients_df.loc[162, 'Ingredient'] = 'cod stick'\n",
    "ingredients_df.loc[188, 'Ingredient'] = 'ewe'\n",
    "ingredients_df.loc[189, 'Ingredient'] = 'ewe'\n",
    "ingredients_df.loc[190, 'Ingredient'] = 'lamb'\n",
    "ingredients_df.loc[202, 'Ingredient'] = 'durum wheat'\n",
    "ingredients_df.loc[213, 'Ingredient'] = 'pasta'\n",
    "ingredients_df.loc[232, 'Ingredient'] = 'flavored cracker'\n",
    "ingredients_df.loc[254, 'Ingredient'] = 'grape'\n",
    "ingredients_df.loc[258, 'Ingredient'] = 'green bean'\n",
    "ingredients_df.loc[260, 'Ingredient'] = 'groundnut'\n",
    "ingredients_df.loc[265, 'Ingredient'] = 'hake'\n",
    "ingredients_df.loc[272, 'Ingredient'] = 'hemp'\n",
    "ingredients_df.loc[296, 'Ingredient'] = 'trout'\n",
    "ingredients_df.loc[333, 'Ingredient'] = 'mealworm'\n",
    "ingredients_df.loc[353, 'Ingredient'] = 'mussel'\n",
    "ingredients_df.loc[364, 'Ingredient'] = 'olive'\n",
    "ingredients_df.loc[370, 'Ingredient'] = 'onion'\n",
    "ingredients_df.loc[411, 'Ingredient'] = 'crackers'\n",
    "ingredients_df.loc[440, 'Ingredient'] = 'pork sausage'\n",
    "ingredients_df.loc[451, 'Ingredient'] = 'quinoa'\n",
    "ingredients_df.loc[458, 'Ingredient'] = 'rapeseed'\n",
    "ingredients_df.loc[465, 'Ingredient'] = 'raspberry'\n",
    "ingredients_df.loc[525, 'Ingredient'] = 'starchy root'\n",
    "ingredients_df.loc[584, 'Ingredient'] = 'canned tuna'\n",
    "ingredients_df.loc[603, 'Ingredient'] = 'wheat flour'\n",
    "ingredients_df.loc[606, 'Ingredient'] = 'wheat flour'"
   ]
  },
  {
   "cell_type": "code",
   "execution_count": 17,
   "id": "6c05bd60-26f1-43d7-bc10-f3ba0bbe3a64",
   "metadata": {},
   "outputs": [],
   "source": [
    "ingredients_df = ingredients_df.groupby('Ingredient').mean()\n",
    "ingredients_df = ingredients_df.reset_index()"
   ]
  },
  {
   "cell_type": "code",
   "execution_count": 18,
   "id": "abf98e60-ff96-4f4a-afb6-20c7c8e058e6",
   "metadata": {},
   "outputs": [],
   "source": [
    "valid_ingredients = set(ingredients_df['Ingredient'])"
   ]
  },
  {
   "cell_type": "markdown",
   "id": "d1fc095b-fde6-4716-9448-86369b9791d8",
   "metadata": {},
   "source": [
    "**Cleaning Recipes.**\n",
    "-"
   ]
  },
  {
   "cell_type": "code",
   "execution_count": 20,
   "id": "7ff9c95f-ebf8-49e6-bb6d-9cb0f07a7a53",
   "metadata": {},
   "outputs": [],
   "source": [
    "all_recipes_df1 = pd.read_csv('recipes_data.csv', nrows=500000, usecols=['title', 'ingredients', 'directions', 'NER'])\n",
    "all_recipes_df2 = pd.read_csv('recipes_data.csv', skiprows=range(1, 500001), nrows=500000, usecols=['title', 'ingredients', 'directions', 'NER'])\n",
    "all_recipes_df3 = pd.read_csv('recipes_data.csv', skiprows=range(1, 1000001), nrows=500000, usecols=['title', 'ingredients', 'directions', 'NER'])\n",
    "all_recipes_df4 = pd.read_csv('recipes_data.csv', skiprows=range(1, 1500001), nrows=500000, usecols=['title', 'ingredients', 'directions', 'NER'])"
   ]
  },
  {
   "cell_type": "markdown",
   "id": "2966ec16-995a-4357-a9b1-96af6130ff14",
   "metadata": {},
   "source": [
    "**Convert strings to lists.**"
   ]
  },
  {
   "cell_type": "code",
   "execution_count": 15,
   "id": "8ebfcb8c-f4cb-4203-b35d-3d3977cfd8f4",
   "metadata": {},
   "outputs": [],
   "source": [
    "def clean_lists(lists):\n",
    "    return ast.literal_eval(lists)"
   ]
  },
  {
   "cell_type": "code",
   "execution_count": 22,
   "id": "272ad0b7-f9ef-4fb8-b20e-b8ba682025c3",
   "metadata": {},
   "outputs": [],
   "source": [
    "all_recipes_df1['ingredients'] = all_recipes_df1['ingredients'].apply(clean_lists)\n",
    "all_recipes_df2['ingredients'] = all_recipes_df2['ingredients'].apply(clean_lists)\n",
    "all_recipes_df3['ingredients'] = all_recipes_df3['ingredients'].apply(clean_lists)\n",
    "all_recipes_df4['ingredients'] = all_recipes_df4['ingredients'].apply(clean_lists)"
   ]
  },
  {
   "cell_type": "code",
   "execution_count": 23,
   "id": "8fbf7daa-56e9-424f-839b-480f4f0d46df",
   "metadata": {},
   "outputs": [],
   "source": [
    "all_recipes_df1['directions'] = all_recipes_df1['directions'].apply(clean_lists)\n",
    "all_recipes_df2['directions'] = all_recipes_df2['directions'].apply(clean_lists)\n",
    "all_recipes_df3['directions'] = all_recipes_df3['directions'].apply(clean_lists)\n",
    "all_recipes_df4['directions'] = all_recipes_df4['directions'].apply(clean_lists)"
   ]
  },
  {
   "cell_type": "code",
   "execution_count": 24,
   "id": "466f4adf-e610-43f4-91e2-f1d602966ddf",
   "metadata": {},
   "outputs": [],
   "source": [
    "all_recipes_df1['NER'] = all_recipes_df1['NER'].apply(clean_lists)\n",
    "all_recipes_df2['NER'] = all_recipes_df2['NER'].apply(clean_lists)\n",
    "all_recipes_df3['NER'] = all_recipes_df3['NER'].apply(clean_lists)\n",
    "all_recipes_df4['NER'] = all_recipes_df4['NER'].apply(clean_lists)"
   ]
  },
  {
   "cell_type": "markdown",
   "id": "cd533cfd-66db-4ef2-8abf-7c27510cfab7",
   "metadata": {},
   "source": [
    "**Only keep recipes made with valid ingredients.**"
   ]
  },
  {
   "cell_type": "code",
   "execution_count": 25,
   "id": "760c23bb-be22-48ce-b776-f0bad4c95ef8",
   "metadata": {},
   "outputs": [],
   "source": [
    "def valid_ingredients_count(ner_list):\n",
    "    return sum([ingredient in valid_ingredients for ingredient in ner_list])\n",
    "\n",
    "all_recipes_df1['valid ingredient count'] = all_recipes_df1['NER'].apply(valid_ingredients_count)\n",
    "all_recipes_df2['valid ingredient count'] = all_recipes_df2['NER'].apply(valid_ingredients_count)\n",
    "all_recipes_df3['valid ingredient count'] = all_recipes_df3['NER'].apply(valid_ingredients_count)\n",
    "all_recipes_df4['valid ingredient count'] = all_recipes_df4['NER'].apply(valid_ingredients_count)"
   ]
  },
  {
   "cell_type": "code",
   "execution_count": 26,
   "id": "82496ad8-2a72-443a-8ffc-6d6f8135aef9",
   "metadata": {},
   "outputs": [],
   "source": [
    "all_recipes_df1['valid ingredient percentage'] = all_recipes_df1['valid ingredient count'] / all_recipes_df1['NER'].apply(len) * 100\n",
    "all_recipes_df2['valid ingredient percentage'] = all_recipes_df2['valid ingredient count'] / all_recipes_df2['NER'].apply(len) * 100\n",
    "all_recipes_df3['valid ingredient percentage'] = all_recipes_df3['valid ingredient count'] / all_recipes_df3['NER'].apply(len) * 100\n",
    "all_recipes_df4['valid ingredient percentage'] = all_recipes_df4['valid ingredient count'] / all_recipes_df4['NER'].apply(len) * 100"
   ]
  },
  {
   "cell_type": "code",
   "execution_count": 27,
   "id": "44f3e3b2-2a5d-4112-b7da-e1d7eca25ba1",
   "metadata": {},
   "outputs": [],
   "source": [
    "valid_recipes_df1 = all_recipes_df1[all_recipes_df1['valid ingredient percentage'] >= 100]\n",
    "valid_recipes_df2 = all_recipes_df2[all_recipes_df2['valid ingredient percentage'] >= 100]\n",
    "valid_recipes_df3 = all_recipes_df3[all_recipes_df3['valid ingredient percentage'] >= 100]\n",
    "valid_recipes_df4 = all_recipes_df4[all_recipes_df4['valid ingredient percentage'] >= 100]"
   ]
  },
  {
   "cell_type": "code",
   "execution_count": 28,
   "id": "4d7ebd7d-c1cf-4a2c-816d-375d2a4aab80",
   "metadata": {},
   "outputs": [
    {
     "name": "stdout",
     "output_type": "stream",
     "text": [
      "1518\n",
      "1619\n",
      "1764\n",
      "2220\n"
     ]
    }
   ],
   "source": [
    "print(len(valid_recipes_df1['title'].unique()))\n",
    "print(len(valid_recipes_df2['title'].unique()))\n",
    "print(len(valid_recipes_df3['title'].unique()))\n",
    "print(len(valid_recipes_df4['title'].unique()))"
   ]
  },
  {
   "cell_type": "code",
   "execution_count": 29,
   "id": "31d1c004-a097-4220-8041-c7c8e4073b00",
   "metadata": {},
   "outputs": [],
   "source": [
    "recipes_df = pd.concat([valid_recipes_df1, valid_recipes_df2, valid_recipes_df3, valid_recipes_df4], ignore_index=True)\n",
    "recipes_df = recipes_df.drop_duplicates(subset='title').reset_index().drop(columns='index')"
   ]
  },
  {
   "cell_type": "code",
   "execution_count": 30,
   "id": "013af69c-4050-49d3-9be2-0988435a4930",
   "metadata": {},
   "outputs": [],
   "source": [
    "def actual_ingredients_count(ingredients):\n",
    "    return len(ingredients)\n",
    "\n",
    "recipes_df['actual ingredients count'] = recipes_df['ingredients'].apply(actual_ingredients_count)"
   ]
  },
  {
   "cell_type": "code",
   "execution_count": 31,
   "id": "9110bade-7108-4c0e-9f3b-b53990ba666b",
   "metadata": {},
   "outputs": [],
   "source": [
    "recipes_df = recipes_df[recipes_df['valid ingredient count'] == recipes_df['actual ingredients count']]\n",
    "recipes_df = recipes_df.reset_index()\n",
    "recipes_df = recipes_df.drop(columns=['index','actual ingredients count'])"
   ]
  },
  {
   "cell_type": "code",
   "execution_count": 32,
   "id": "1e223f27-c0b1-4843-9fc5-01b4f8fa6021",
   "metadata": {
    "scrolled": true
   },
   "outputs": [],
   "source": [
    "final_recipes_df = recipes_df"
   ]
  },
  {
   "cell_type": "code",
   "execution_count": 33,
   "id": "733ab53b-41b3-45d0-9c37-fb7c61f54385",
   "metadata": {},
   "outputs": [],
   "source": [
    "def combine(thelist):\n",
    "    return ''.join(thelist)\n",
    "final_recipes_df['all ingredients'] = final_recipes_df['ingredients'].apply(combine)\n",
    "\n",
    "def count_symbol(combined):\n",
    "    return ' or ' in combined or '(' in combined\n",
    "final_recipes_df['true'] = final_recipes_df['all ingredients'].apply(count_symbol)\n",
    "final_recipes_df = final_recipes_df[final_recipes_df['true'] == False]"
   ]
  },
  {
   "cell_type": "code",
   "execution_count": 34,
   "id": "cbce41e8-929d-41bc-be50-de9e6acfe6f1",
   "metadata": {},
   "outputs": [],
   "source": [
    "final_recipes_df = final_recipes_df[final_recipes_df['valid ingredient count'] != 1]"
   ]
  },
  {
   "cell_type": "code",
   "execution_count": 35,
   "id": "8cbb6350-f5ce-4d19-ae06-f53c65d145f6",
   "metadata": {},
   "outputs": [],
   "source": [
    "final_recipes_df = final_recipes_df.reset_index()\n",
    "final_recipes_df = final_recipes_df.drop(columns=['index', 'valid ingredient percentage', 'all ingredients', 'true'])"
   ]
  },
  {
   "cell_type": "code",
   "execution_count": 36,
   "id": "b2ce8314-e8c5-4bc3-afc4-f2a40e2936b7",
   "metadata": {},
   "outputs": [],
   "source": [
    "final_recipes_df['carbon'] = 0"
   ]
  },
  {
   "cell_type": "code",
   "execution_count": 43,
   "id": "271a812b-bb95-418b-bd18-0e2265104cad",
   "metadata": {},
   "outputs": [],
   "source": [
    "pd.set_option('display.max_rows', 10)"
   ]
  },
  {
   "cell_type": "markdown",
   "id": "f98043a2-b92a-49b8-b428-4adc9de6d9bc",
   "metadata": {},
   "source": [
    "**Update recipes.csv with carbon footprint values**\n",
    "-"
   ]
  },
  {
   "cell_type": "code",
   "execution_count": 51,
   "id": "3e693782-4d31-435f-a843-92f07c1ba704",
   "metadata": {},
   "outputs": [
    {
     "data": {
      "text/html": [
       "<div>\n",
       "<style scoped>\n",
       "    .dataframe tbody tr th:only-of-type {\n",
       "        vertical-align: middle;\n",
       "    }\n",
       "\n",
       "    .dataframe tbody tr th {\n",
       "        vertical-align: top;\n",
       "    }\n",
       "\n",
       "    .dataframe thead th {\n",
       "        text-align: right;\n",
       "    }\n",
       "</style>\n",
       "<table border=\"1\" class=\"dataframe\">\n",
       "  <thead>\n",
       "    <tr style=\"text-align: right;\">\n",
       "      <th></th>\n",
       "      <th>0</th>\n",
       "    </tr>\n",
       "  </thead>\n",
       "  <tbody>\n",
       "    <tr>\n",
       "      <th>0</th>\n",
       "      <td>3.178580</td>\n",
       "    </tr>\n",
       "    <tr>\n",
       "      <th>1</th>\n",
       "      <td>0.774455</td>\n",
       "    </tr>\n",
       "    <tr>\n",
       "      <th>2</th>\n",
       "      <td>1.296800</td>\n",
       "    </tr>\n",
       "    <tr>\n",
       "      <th>3</th>\n",
       "      <td>2.815290</td>\n",
       "    </tr>\n",
       "    <tr>\n",
       "      <th>4</th>\n",
       "      <td>13.940800</td>\n",
       "    </tr>\n",
       "    <tr>\n",
       "      <th>...</th>\n",
       "      <td>...</td>\n",
       "    </tr>\n",
       "    <tr>\n",
       "      <th>2141</th>\n",
       "      <td>5.276850</td>\n",
       "    </tr>\n",
       "    <tr>\n",
       "      <th>2142</th>\n",
       "      <td>1.096210</td>\n",
       "    </tr>\n",
       "    <tr>\n",
       "      <th>2143</th>\n",
       "      <td>1.625830</td>\n",
       "    </tr>\n",
       "    <tr>\n",
       "      <th>2144</th>\n",
       "      <td>3.704710</td>\n",
       "    </tr>\n",
       "    <tr>\n",
       "      <th>2145</th>\n",
       "      <td>2.577290</td>\n",
       "    </tr>\n",
       "  </tbody>\n",
       "</table>\n",
       "<p>2146 rows × 1 columns</p>\n",
       "</div>"
      ],
      "text/plain": [
       "              0\n",
       "0      3.178580\n",
       "1      0.774455\n",
       "2      1.296800\n",
       "3      2.815290\n",
       "4     13.940800\n",
       "...         ...\n",
       "2141   5.276850\n",
       "2142   1.096210\n",
       "2143   1.625830\n",
       "2144   3.704710\n",
       "2145   2.577290\n",
       "\n",
       "[2146 rows x 1 columns]"
      ]
     },
     "execution_count": 51,
     "metadata": {},
     "output_type": "execute_result"
    }
   ],
   "source": [
    "carbon_df = pd.read_csv('carbon.csv', header=None)\n",
    "carbon_df"
   ]
  },
  {
   "cell_type": "code",
   "execution_count": 52,
   "id": "cd47c91c-a2e0-4a00-ace5-aa05d9226fc8",
   "metadata": {},
   "outputs": [],
   "source": [
    "final_recipes_df['carbon'] = carbon_df"
   ]
  },
  {
   "cell_type": "markdown",
   "id": "3a28831e-65c8-4a43-8f0a-dbf6b4f162ef",
   "metadata": {},
   "source": [
    "**Revised dataframes for easy access and export.**\n",
    "-"
   ]
  },
  {
   "cell_type": "code",
   "execution_count": 63,
   "id": "d049baf5-1f6c-4608-8a6c-51765aead32d",
   "metadata": {},
   "outputs": [
    {
     "data": {
      "text/html": [
       "<div>\n",
       "<style scoped>\n",
       "    .dataframe tbody tr th:only-of-type {\n",
       "        vertical-align: middle;\n",
       "    }\n",
       "\n",
       "    .dataframe tbody tr th {\n",
       "        vertical-align: top;\n",
       "    }\n",
       "\n",
       "    .dataframe thead th {\n",
       "        text-align: right;\n",
       "    }\n",
       "</style>\n",
       "<table border=\"1\" class=\"dataframe\">\n",
       "  <thead>\n",
       "    <tr style=\"text-align: right;\">\n",
       "      <th></th>\n",
       "      <th>title</th>\n",
       "      <th>ingredients</th>\n",
       "      <th>directions</th>\n",
       "      <th>NER</th>\n",
       "      <th>valid ingredient count</th>\n",
       "      <th>carbon</th>\n",
       "    </tr>\n",
       "  </thead>\n",
       "  <tbody>\n",
       "    <tr>\n",
       "      <th>614</th>\n",
       "      <td>Cran-Orange Punch</td>\n",
       "      <td>['1 gal. cranberry juice', '1 gal. orange juice']</td>\n",
       "      <td>['Mix juice and serve over ice cream.', 'A spr...</td>\n",
       "      <td>['orange juice', 'cranberry juice']</td>\n",
       "      <td>2</td>\n",
       "      <td>0.000334</td>\n",
       "    </tr>\n",
       "    <tr>\n",
       "      <th>455</th>\n",
       "      <td>Simple Punch</td>\n",
       "      <td>['1 large can pineapple juice', '1 large can o...</td>\n",
       "      <td>['Mix and keep in refrigerator; before serving...</td>\n",
       "      <td>['pineapple juice', 'apple juice', 'orange jui...</td>\n",
       "      <td>3</td>\n",
       "      <td>0.000608</td>\n",
       "    </tr>\n",
       "    <tr>\n",
       "      <th>330</th>\n",
       "      <td>Scalloped Chicken</td>\n",
       "      <td>['1 large whole chicken', '1 box saltine crack...</td>\n",
       "      <td>['Boil chicken until done. Remove from pot and...</td>\n",
       "      <td>['crackers', 'chicken']</td>\n",
       "      <td>2</td>\n",
       "      <td>0.001260</td>\n",
       "    </tr>\n",
       "    <tr>\n",
       "      <th>85</th>\n",
       "      <td>Canned Tomatoes</td>\n",
       "      <td>['tomatoes', '1 tsp. salt', '1 tsp. sugar']</td>\n",
       "      <td>['Peel tomatoes, then cut into pieces.', 'Cook...</td>\n",
       "      <td>['sugar', 'tomatoes', 'salt']</td>\n",
       "      <td>3</td>\n",
       "      <td>0.011610</td>\n",
       "    </tr>\n",
       "    <tr>\n",
       "      <th>282</th>\n",
       "      <td>Peanut Butter</td>\n",
       "      <td>['4 c. roasted nuts', '1 tsp. salt']</td>\n",
       "      <td>['Shell 4 cups of peanuts and roast.', 'Remove...</td>\n",
       "      <td>['nuts', 'salt']</td>\n",
       "      <td>2</td>\n",
       "      <td>0.014764</td>\n",
       "    </tr>\n",
       "    <tr>\n",
       "      <th>...</th>\n",
       "      <td>...</td>\n",
       "      <td>...</td>\n",
       "      <td>...</td>\n",
       "      <td>...</td>\n",
       "      <td>...</td>\n",
       "      <td>...</td>\n",
       "    </tr>\n",
       "    <tr>\n",
       "      <th>1754</th>\n",
       "      <td>Classic Turkey Club Sandwich</td>\n",
       "      <td>['3 slices bread, any', '1/4 lb turkey sliced ...</td>\n",
       "      <td>['Spread mayonnaise on two slices of bread.', ...</td>\n",
       "      <td>['bread', 'bacon', 'tomatoes', 'lettuce', 'che...</td>\n",
       "      <td>8</td>\n",
       "      <td>35.137900</td>\n",
       "    </tr>\n",
       "    <tr>\n",
       "      <th>1153</th>\n",
       "      <td>Tender, Juicy, Roast Beef Ever</td>\n",
       "      <td>['3 1/2 lbs beef eye round', 'coarse salt', 'p...</td>\n",
       "      <td>['Salt and pepper roast all over.', 'Place roa...</td>\n",
       "      <td>['beef', 'pepper', 'salt']</td>\n",
       "      <td>3</td>\n",
       "      <td>38.186100</td>\n",
       "    </tr>\n",
       "    <tr>\n",
       "      <th>976</th>\n",
       "      <td>The Standing Rib</td>\n",
       "      <td>['4 lb. beef rib roast', 'salt and pepper']</td>\n",
       "      <td>['Place meat, fat side up, in a 15 1/2 x 10 1/...</td>\n",
       "      <td>['beef', 'salt']</td>\n",
       "      <td>2</td>\n",
       "      <td>41.363800</td>\n",
       "    </tr>\n",
       "    <tr>\n",
       "      <th>989</th>\n",
       "      <td>Corny Cheese Toasties</td>\n",
       "      <td>['2 slices bread', '1 tablespoon butter', '1 t...</td>\n",
       "      <td>['Preheat skillet over medium heat. Butter eac...</td>\n",
       "      <td>['bread', 'cheese', 'mayonnaise', 'beef', 'but...</td>\n",
       "      <td>5</td>\n",
       "      <td>46.634200</td>\n",
       "    </tr>\n",
       "    <tr>\n",
       "      <th>1093</th>\n",
       "      <td>Perfect Prime Rib(Atk)</td>\n",
       "      <td>['6 7 lbs first-cut beef rib roast, 3 ribs, se...</td>\n",
       "      <td>['Adjust oven rack to low position and heat ov...</td>\n",
       "      <td>['beef', 'salt']</td>\n",
       "      <td>2</td>\n",
       "      <td>423.556000</td>\n",
       "    </tr>\n",
       "  </tbody>\n",
       "</table>\n",
       "<p>2145 rows × 6 columns</p>\n",
       "</div>"
      ],
      "text/plain": [
       "                               title  \\\n",
       "614                Cran-Orange Punch   \n",
       "455                     Simple Punch   \n",
       "330                Scalloped Chicken   \n",
       "85                   Canned Tomatoes   \n",
       "282                    Peanut Butter   \n",
       "...                              ...   \n",
       "1754    Classic Turkey Club Sandwich   \n",
       "1153  Tender, Juicy, Roast Beef Ever   \n",
       "976                 The Standing Rib   \n",
       "989            Corny Cheese Toasties   \n",
       "1093          Perfect Prime Rib(Atk)   \n",
       "\n",
       "                                            ingredients  \\\n",
       "614   ['1 gal. cranberry juice', '1 gal. orange juice']   \n",
       "455   ['1 large can pineapple juice', '1 large can o...   \n",
       "330   ['1 large whole chicken', '1 box saltine crack...   \n",
       "85          ['tomatoes', '1 tsp. salt', '1 tsp. sugar']   \n",
       "282                ['4 c. roasted nuts', '1 tsp. salt']   \n",
       "...                                                 ...   \n",
       "1754  ['3 slices bread, any', '1/4 lb turkey sliced ...   \n",
       "1153  ['3 1/2 lbs beef eye round', 'coarse salt', 'p...   \n",
       "976         ['4 lb. beef rib roast', 'salt and pepper']   \n",
       "989   ['2 slices bread', '1 tablespoon butter', '1 t...   \n",
       "1093  ['6 7 lbs first-cut beef rib roast, 3 ribs, se...   \n",
       "\n",
       "                                             directions  \\\n",
       "614   ['Mix juice and serve over ice cream.', 'A spr...   \n",
       "455   ['Mix and keep in refrigerator; before serving...   \n",
       "330   ['Boil chicken until done. Remove from pot and...   \n",
       "85    ['Peel tomatoes, then cut into pieces.', 'Cook...   \n",
       "282   ['Shell 4 cups of peanuts and roast.', 'Remove...   \n",
       "...                                                 ...   \n",
       "1754  ['Spread mayonnaise on two slices of bread.', ...   \n",
       "1153  ['Salt and pepper roast all over.', 'Place roa...   \n",
       "976   ['Place meat, fat side up, in a 15 1/2 x 10 1/...   \n",
       "989   ['Preheat skillet over medium heat. Butter eac...   \n",
       "1093  ['Adjust oven rack to low position and heat ov...   \n",
       "\n",
       "                                                    NER  \\\n",
       "614                 ['orange juice', 'cranberry juice']   \n",
       "455   ['pineapple juice', 'apple juice', 'orange jui...   \n",
       "330                             ['crackers', 'chicken']   \n",
       "85                        ['sugar', 'tomatoes', 'salt']   \n",
       "282                                    ['nuts', 'salt']   \n",
       "...                                                 ...   \n",
       "1754  ['bread', 'bacon', 'tomatoes', 'lettuce', 'che...   \n",
       "1153                         ['beef', 'pepper', 'salt']   \n",
       "976                                    ['beef', 'salt']   \n",
       "989   ['bread', 'cheese', 'mayonnaise', 'beef', 'but...   \n",
       "1093                                   ['beef', 'salt']   \n",
       "\n",
       "      valid ingredient count      carbon  \n",
       "614                        2    0.000334  \n",
       "455                        3    0.000608  \n",
       "330                        2    0.001260  \n",
       "85                         3    0.011610  \n",
       "282                        2    0.014764  \n",
       "...                      ...         ...  \n",
       "1754                       8   35.137900  \n",
       "1153                       3   38.186100  \n",
       "976                        2   41.363800  \n",
       "989                        5   46.634200  \n",
       "1093                       2  423.556000  \n",
       "\n",
       "[2145 rows x 6 columns]"
      ]
     },
     "execution_count": 63,
     "metadata": {},
     "output_type": "execute_result"
    }
   ],
   "source": [
    "recipes = pd.read_csv('recipes revised.csv')\n",
    "carbon = pd.read_csv('carbon.csv', header=None)\n",
    "carbon.drop(carbon.tail(1).index,inplace=True)\n",
    "recipes['carbon'] = carbon\n",
    "recipes = recipes.sort_values(by='carbon', ascending=True)\n",
    "recipes"
   ]
  },
  {
   "cell_type": "code",
   "execution_count": 44,
   "id": "3c2aeed2-ca21-4686-8c6d-221a8fa05b72",
   "metadata": {},
   "outputs": [
    {
     "data": {
      "text/html": [
       "<div>\n",
       "<style scoped>\n",
       "    .dataframe tbody tr th:only-of-type {\n",
       "        vertical-align: middle;\n",
       "    }\n",
       "\n",
       "    .dataframe tbody tr th {\n",
       "        vertical-align: top;\n",
       "    }\n",
       "\n",
       "    .dataframe thead th {\n",
       "        text-align: right;\n",
       "    }\n",
       "</style>\n",
       "<table border=\"1\" class=\"dataframe\">\n",
       "  <thead>\n",
       "    <tr style=\"text-align: right;\">\n",
       "      <th></th>\n",
       "      <th>Ingredient</th>\n",
       "      <th>Carbon Footprint</th>\n",
       "    </tr>\n",
       "  </thead>\n",
       "  <tbody>\n",
       "    <tr>\n",
       "      <th>0</th>\n",
       "      <td>albacore</td>\n",
       "      <td>4.176632</td>\n",
       "    </tr>\n",
       "    <tr>\n",
       "      <th>1</th>\n",
       "      <td>alfalfa</td>\n",
       "      <td>0.214007</td>\n",
       "    </tr>\n",
       "    <tr>\n",
       "      <th>2</th>\n",
       "      <td>alfonsino</td>\n",
       "      <td>3.49</td>\n",
       "    </tr>\n",
       "    <tr>\n",
       "      <th>3</th>\n",
       "      <td>almond</td>\n",
       "      <td>1.88</td>\n",
       "    </tr>\n",
       "    <tr>\n",
       "      <th>4</th>\n",
       "      <td>almond covered with chocolate</td>\n",
       "      <td>4.8</td>\n",
       "    </tr>\n",
       "    <tr>\n",
       "      <th>...</th>\n",
       "      <td>...</td>\n",
       "      <td>...</td>\n",
       "    </tr>\n",
       "    <tr>\n",
       "      <th>320</th>\n",
       "      <td>wool</td>\n",
       "      <td>4.213114</td>\n",
       "    </tr>\n",
       "    <tr>\n",
       "      <th>321</th>\n",
       "      <td>yeast</td>\n",
       "      <td>1.540333</td>\n",
       "    </tr>\n",
       "    <tr>\n",
       "      <th>322</th>\n",
       "      <td>yellowfin tuna</td>\n",
       "      <td>1.886781</td>\n",
       "    </tr>\n",
       "    <tr>\n",
       "      <th>323</th>\n",
       "      <td>yogurt</td>\n",
       "      <td>2.671067</td>\n",
       "    </tr>\n",
       "    <tr>\n",
       "      <th>324</th>\n",
       "      <td>zucchini</td>\n",
       "      <td>0.59336</td>\n",
       "    </tr>\n",
       "  </tbody>\n",
       "</table>\n",
       "<p>325 rows × 2 columns</p>\n",
       "</div>"
      ],
      "text/plain": [
       "                        Ingredient Carbon Footprint\n",
       "0                         albacore         4.176632\n",
       "1                          alfalfa         0.214007\n",
       "2                        alfonsino             3.49\n",
       "3                           almond             1.88\n",
       "4    almond covered with chocolate              4.8\n",
       "..                             ...              ...\n",
       "320                           wool         4.213114\n",
       "321                          yeast         1.540333\n",
       "322                 yellowfin tuna         1.886781\n",
       "323                         yogurt         2.671067\n",
       "324                       zucchini          0.59336\n",
       "\n",
       "[325 rows x 2 columns]"
      ]
     },
     "execution_count": 44,
     "metadata": {},
     "output_type": "execute_result"
    }
   ],
   "source": [
    "ingredients_df"
   ]
  },
  {
   "cell_type": "code",
   "execution_count": 39,
   "id": "8b6a8683-f164-4b81-9f14-c979828771ad",
   "metadata": {
    "scrolled": true
   },
   "outputs": [
    {
     "name": "stdout",
     "output_type": "stream",
     "text": [
      "D:\\Code\\CirFinCREATE\n"
     ]
    },
    {
     "name": "stderr",
     "output_type": "stream",
     "text": [
      "C:\\Users\\sarah\\AppData\\Local\\Programs\\Python\\Python311\\Lib\\site-packages\\IPython\\core\\magics\\osm.py:417: UserWarning: This is now an optional IPython functionality, setting dhist requires you to install the `pickleshare` library.\n",
      "  self.shell.db['dhist'] = compress_dhist(dhist)[-100:]\n"
     ]
    }
   ],
   "source": [
    "%cd .."
   ]
  },
  {
   "cell_type": "code",
   "execution_count": 55,
   "id": "1dafdd72-7907-4e5b-9c43-987a76fa1fb3",
   "metadata": {},
   "outputs": [],
   "source": [
    "ingredients_df.to_csv('ingredients.csv', index=False)\n",
    "final_recipes_df.to_csv('recipes.csv', index=False)"
   ]
  }
 ],
 "metadata": {
  "kernelspec": {
   "display_name": "Python 3 (ipykernel)",
   "language": "python",
   "name": "python3"
  },
  "language_info": {
   "codemirror_mode": {
    "name": "ipython",
    "version": 3
   },
   "file_extension": ".py",
   "mimetype": "text/x-python",
   "name": "python",
   "nbconvert_exporter": "python",
   "pygments_lexer": "ipython3",
   "version": "3.11.8"
  }
 },
 "nbformat": 4,
 "nbformat_minor": 5
}
